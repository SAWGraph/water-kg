{
 "cells": [
  {
   "cell_type": "code",
   "execution_count": 1,
   "id": "5bb915e7-877a-4b61-a855-5dca76dc2469",
   "metadata": {},
   "outputs": [],
   "source": [
    "import zipfile\n",
    "from rdflib import Graph\n",
    "\n",
    "import sys\n",
    "import os\n",
    "\n",
    "# Modify the system path to find namespaces.py\n",
    "sys.path.insert(1, 'G:/My Drive/Laptop/SAWGraph/Data Sources')\n",
    "from namespaces import _PREFIX\n",
    "\n",
    "# Set the current directory to this file's directory\n",
    "os.chdir('G:/My Drive/Laptop/SAWGraph/Data Sources/Hydrology/Wells')"
   ]
  },
  {
   "cell_type": "code",
   "execution_count": 2,
   "id": "d30fb026-efcc-4711-a003-017e8ddb0896",
   "metadata": {},
   "outputs": [],
   "source": [
    "def initial_kg(_PREFIX):\n",
    "    graph = Graph()\n",
    "    for prefix in _PREFIX:\n",
    "        graph.bind(prefix, _PREFIX[prefix])\n",
    "    return graph"
   ]
  },
  {
   "cell_type": "code",
   "execution_count": 3,
   "id": "03720359-18e0-49cc-ab56-30057cd192b9",
   "metadata": {},
   "outputs": [],
   "source": [
    "def process_zipped_ttl_files(infile, graph):\n",
    "    with zipfile.ZipFile(infile) as myzip:\n",
    "        file_list = myzip.namelist()\n",
    "        for file in file_list:\n",
    "            if '.ttl' in file:\n",
    "                with myzip.open(file) as content:\n",
    "                    graph.parse(content)\n",
    "    return graph"
   ]
  },
  {
   "cell_type": "code",
   "execution_count": 4,
   "id": "057d3337-6e5b-4cdb-ae92-f8eca061ec18",
   "metadata": {},
   "outputs": [
    {
     "name": "stdout",
     "output_type": "stream",
     "text": [
      "CPU times: total: 16.8 s\n",
      "Wall time: 18.3 s\n"
     ]
    },
    {
     "data": {
      "text/plain": [
       "<Graph identifier=N5327b3f641494fa7bf5a9a4255b3551b (<class 'rdflib.graph.Graph'>)>"
      ]
     },
     "execution_count": 4,
     "metadata": {},
     "output_type": "execute_result"
    }
   ],
   "source": [
    "%%time\n",
    "graph = initial_kg(_PREFIX)\n",
    "graph = process_zipped_ttl_files('ttl_files/me_wells_located_output_towns.zip', graph)\n",
    "graph.serialize('ttl_files/me_wells_located_output_towns.ttl', format='ttl')"
   ]
  },
  {
   "cell_type": "code",
   "execution_count": 5,
   "id": "232d533b-ac2d-4509-89a3-1f2a4668c815",
   "metadata": {},
   "outputs": [
    {
     "name": "stdout",
     "output_type": "stream",
     "text": [
      "CPU times: total: 21.1 s\n",
      "Wall time: 22.7 s\n"
     ]
    },
    {
     "data": {
      "text/plain": [
       "<Graph identifier=N2476c544ca684432b3e44cc6aa08cbde (<class 'rdflib.graph.Graph'>)>"
      ]
     },
     "execution_count": 5,
     "metadata": {},
     "output_type": "execute_result"
    }
   ],
   "source": [
    "%%time\n",
    "graph = initial_kg(_PREFIX)\n",
    "graph = process_zipped_ttl_files('ttl_files/s2_relations_mgs_wells_located_output.zip', graph)\n",
    "graph.serialize('ttl_files/s2_relations_mgs_wells_located_output.ttl', format='ttl')"
   ]
  },
  {
   "cell_type": "code",
   "execution_count": 6,
   "id": "2a229a0a-ba29-4797-b7c1-1f1b87cb5336",
   "metadata": {},
   "outputs": [
    {
     "name": "stdout",
     "output_type": "stream",
     "text": [
      "CPU times: total: 20.1 s\n",
      "Wall time: 21.6 s\n"
     ]
    },
    {
     "data": {
      "text/plain": [
       "<Graph identifier=N1af040640e484121ad0cb339b2f56e2f (<class 'rdflib.graph.Graph'>)>"
      ]
     },
     "execution_count": 6,
     "metadata": {},
     "output_type": "execute_result"
    }
   ],
   "source": [
    "%%time\n",
    "graph = initial_kg(_PREFIX)\n",
    "graph = process_zipped_ttl_files('ttl_files/s2-me_mgs_wells.zip', graph)\n",
    "graph.serialize('ttl_files/s2-me_mgs_wells.ttl', format='ttl')"
   ]
  }
 ],
 "metadata": {
  "kernelspec": {
   "display_name": "Python 3 (ipykernel)",
   "language": "python",
   "name": "python3"
  },
  "language_info": {
   "codemirror_mode": {
    "name": "ipython",
    "version": 3
   },
   "file_extension": ".py",
   "mimetype": "text/x-python",
   "name": "python",
   "nbconvert_exporter": "python",
   "pygments_lexer": "ipython3",
   "version": "3.12.3"
  }
 },
 "nbformat": 4,
 "nbformat_minor": 5
}
