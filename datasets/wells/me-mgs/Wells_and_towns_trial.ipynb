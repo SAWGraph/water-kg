{
 "cells": [
  {
   "cell_type": "code",
   "execution_count": 6,
   "id": "e6370af5-277e-4ace-b723-73809309198a",
   "metadata": {},
   "outputs": [
    {
     "name": "stdout",
     "output_type": "stream",
     "text": [
      "PyTables is not installed. No support for HDF output.\n"
     ]
    }
   ],
   "source": [
    "import geopandas as gpd\n",
    "import pandas as pd\n",
    "from simpledbf import Dbf5"
   ]
  },
  {
   "cell_type": "code",
   "execution_count": 9,
   "id": "8c57adba-cce6-46de-818d-b7a3a42d0fdb",
   "metadata": {},
   "outputs": [],
   "source": [
    "wells_located_shp = '../../Geospatial/Maine/Maine_Well_Database_-_Well_Depth/MGS_Wells.shp'\n",
    "wells_unlocated_dbf = '../../Geospatial/Maine/Maine_Well_Database_-_Unlocated/MGS_Wells_Unlocated.dbf'\n",
    "cousub_shp = '../../Geospatial/Maine/tl_2023_23_cousub/tl_2023_23_cousub.shp'"
   ]
  },
  {
   "cell_type": "code",
   "execution_count": 10,
   "id": "de660380-7c22-439f-94c7-f42abf5927ef",
   "metadata": {},
   "outputs": [],
   "source": [
    "# wells_located = gpd.read_file(wells_located_shp)\n",
    "dbf = Dbf5(wells_unlocated_dbf)\n",
    "wells_unlocated = dbf.to_dataframe()\n",
    "cousub = gpd.read_file(cousub_shp)"
   ]
  },
  {
   "cell_type": "code",
   "execution_count": 13,
   "id": "2842692a-28ee-4f20-95ec-3e3b02c4a529",
   "metadata": {},
   "outputs": [
    {
     "name": "stdout",
     "output_type": "stream",
     "text": [
      "Index(['WELLNO', 'WELL_LOCAT', 'WELL_LOC_1', 'TAX_MAP_NO', 'TAX_LOT_NO',\n",
      "       'DRILL_DATE', 'DRILL_DA_1', 'WELL_DRILL', 'WELL_USE', 'WELL_TYPE',\n",
      "       'WELL_CONST', 'WELL_DEVEL', 'CASING_LEN', 'OVERBURDEN', 'WELL_DEPTH',\n",
      "       'WELL_YIELD', 'WELL_YIE_1', 'YIELD_DATE', 'WELL_STATI', 'WELL_STA_1',\n",
      "       'VEIN1_DEPT', 'VEIN1_YIEL', 'VEIN2_DEPT', 'VEIN2_YIEL', 'VEIN3_DEPT',\n",
      "       'VEIN3_YIEL', 'VEIN4_DEPT', 'VEIN4_YIEL', 'REPLACEMEN', 'GEOTHERMAL',\n",
      "       'WELL_COMME', 'LOCATION_M', 'LOCATION_A', 'LOCATION_D', 'LOCATION_U',\n",
      "       'LATITUDE', 'LONGITUDE', 'WELL_YIE_2', 'WELL_DEP_1', 'WELL_OVERB',\n",
      "       'WELLCARDNO', 'HYDROFRACT', 'ERROR_REPO', 'DATE_ENTER', 'DATE_EDITE',\n",
      "       'geometry'],\n",
      "      dtype='object')\n",
      "Index(['WELLNO', 'WELL_LOCAT', 'WELL_LOC_1', 'TAX_MAP_NO', 'TAX_LOT_NO',\n",
      "       'DRILL_DATE', 'DRILL_DA_1', 'WELL_DRILL', 'WELL_USE', 'WELL_TYPE',\n",
      "       'WELL_CONST', 'WELL_DEVEL', 'CASING_LEN', 'OVERBURDEN', 'WELL_DEPTH',\n",
      "       'WELL_YIELD', 'WELL_YIE_1', 'YIELD_DATE', 'WELL_STATI', 'WELL_STA_1',\n",
      "       'VEIN1_DEPT', 'VEIN1_YIEL', 'VEIN2_DEPT', 'VEIN2_YIEL', 'VEIN3_DEPT',\n",
      "       'VEIN3_YIEL', 'VEIN4_DEPT', 'VEIN4_YIEL', 'REPLACEMEN', 'GEOTHERMAL',\n",
      "       'WELL_COMME', 'WELLCARDNO', 'HYDROFRACT', 'ERROR_REPO'],\n",
      "      dtype='object')\n",
      "Index(['STATEFP', 'COUNTYFP', 'COUSUBFP', 'COUSUBNS', 'GEOID', 'GEOIDFQ',\n",
      "       'NAME', 'NAMELSAD', 'LSAD', 'CLASSFP', 'MTFCC', 'FUNCSTAT', 'ALAND',\n",
      "       'AWATER', 'INTPTLAT', 'INTPTLON', 'geometry'],\n",
      "      dtype='object')\n"
     ]
    }
   ],
   "source": [
    "print(wells_located.columns)\n",
    "print(wells_unlocated.columns)\n",
    "print(cousub.columns)"
   ]
  },
  {
   "cell_type": "code",
   "execution_count": 19,
   "id": "bf44f88c-3914-456a-8b41-b3dc731da5f4",
   "metadata": {},
   "outputs": [
    {
     "name": "stdout",
     "output_type": "stream",
     "text": [
      "['carrabassett valley', 'hibberts', 'monhegan', 'sidney', 'andover', 'milton', 'perry', 'norway', 'addison', 'calais', 'dennysville', 'jonesport', 'machiasport', 'north washington', 'talmadge', 'fairfield', 'lubec', 'eastport', 'grand lake stream', 'jonesboro', 'hollis', 'machias', 'northfield', 'pembroke', 'princeton', 'alfred', 'biddeford', 'buxton', 'kittery', 'newfield', 'sanford', 'waterboro', 'harpswell', 'wells', 'brunswick', 'casco', 'freeport', 'gorham', 'harrison', 'naples', 'sebago', 'standish', 'yarmouth', 'stow', 'upton', 'abbot', 'topsham', 'madison', 'penobscot indian island', 'gilead', 'hartford', 'hiram', 'lovell', 'north oxford', 'benton', 'randolph', 'stoneham', 'anson', 'athens', 'brighton', 'canaan', 'caratunk', 'central somerset', 'dennistown', 'detroit', 'embden', 'harmony', 'highland', 'jackman', 'mercer', 'norridgewock', 'wayne', 'albion', 'belgrade', 'hudson', 'palmyra', 'pittsfield', 'pleasant ridge', 'st. albans', 'skowhegan', 'smithfield', 'amherst', 'aurora', 'solon', 'starks', 'the forks', 'west central franklin', 'hope', 'frenchville', 'glenwood', 'hammond', 'haynesville', 'hersey', 'wallagrass', 'washburn', 'westmanland', 'alton', 'corinth', 'fort kent', 'hodgdon', 'island falls', 'limestone', 'linneus', 'moro', 'moscow', 'northeast somerset', 'west forks', 'porter', 'weston', 'woodland', 'caswell', 'brownfield', 'buckfield', 'industry', 'augusta', 'chelsea', 'china', 'clinton', 'farmingdale', 'houlton', 'littleton', 'macwahoc', 'madawaska', 'allagash', 'amity', 'ashland', 'mapleton', 'mars hill', 'monticello', 'blaine', 'cumberland', 'bridgewater', 'caribou', 'central aroostook', 'new sweden', 'oakfield', 'orient', 'fayette', 'gardiner', 'hallowell', 'manchester', 'monmouth', 'oakland', 'hamlin', 'presque isle', 'st. agatha', 'chapman', 'cyr', 'dyer brook', 'easton', 'fort fairfield', 'st. john', 'sherman', 'smyrna', 'square lake', 'canton', 'denmark', 'dixfield', 'fryeburg', 'van buren', 'wade', 'greenwood', 'hanover', 'avon', 'dallas', 'east central franklin', 'eustis', 'farmington', 'jay', 'pittston', 'rome', 'unity', 'vassalboro', 'hebron', 'lincoln', 'mexico', 'newry', 'new sharon', 'new vineyard', 'rangeley', 'strong', 'vienna', 'waterville', 'windsor', 'winslow', 'oxford', 'peru', 'rumford', 'bethel', 'winthrop', 'wyman', 'byron', 'otisfield', 'sumner', 'georgetown', 'waldo', 'sweden', 'waterford', 'weld', 'wilton', 'temple', 'coplin', 'belfast', 'burnham', 'frankfort', 'freedom', 'jackson', 'bowdoinham', 'perkins', 'richmond', 'west bath', 'robbinston', 'roque bluffs', 'bowerbank', 'brownville', 'patten', 'penobscot indian island', 'bremen', 'bristol', 'damariscotta', 'dresden', 'edgecomb', 'jefferson', 'new canada', 'islesboro', 'argyle', 'brewer', 'grand isle', 'ludlow', 'nashville', 'northwest aroostook', 'reed', 'st. francis', 'south aroostook', 'westfield', 'new limerick', 'roxbury', 'auburn', 'leeds', 'livermore', 'poland', 'louds island', 'livermore falls', 'marshall island', 'ripley', 'seboomook lake', 'otis', 'waltham', 'cambridge', 'brooksville', 'central hancock', 'deer isle', 'hancock', 'mariaville', 'northwest hancock', 'cornville', 'hartland', 'moose river', 'northwest somerset', 'north franklin', 'codyville', 'knox', 'woodstock', 'kingfield', 'bath', 'phippsburg', 'woolwich', 'lisbon', 'minot', 'turner', 'exeter', 'springfield', 'whitney', 'appleton', 'friendship', 'union', 'beals', 'cherryfield', 'st. george', 'south thomaston', 'thomaston', 'vinalhaven', 'wellington', 'mount desert', 'orland', 'penobscot', 'sedgwick', 'old orchard beach', 'readfield', 'liberty', 'monroe', 'montville', 'morrill', 'northport', 'palermo', 'east machias', 'prospect', 'searsport', 'swanville', 'thorndike', 'troy', 'winterport', 'rangeley', 'arrowsic', 'phillips', 'south franklin', 'steuben', 'topsfield', 'vanceboro', 'waite', 'dover-foxcroft', 'northeast piscataquis', 'northwest piscataquis', 'sebec', 'willimantic', 'alna', 'boothbay', 'boothbay harbor', 'wesley', 'whiting', 'milbridge', 'maxfield', 'milford', 'old town', 'belmont', 'masardis', 'merrill', 'burlington', 'carroll', 'charleston', 'baileyville', 'east central washington', 'harrington', 'marshfield', 'west paris', 'newcastle', 'nobleboro', 'somerville', 'south bristol', 'southport', 'westport island', 'whitefield', 'wiscasset', 'stetson', 'brooks', 'sandy river', 'chesterville', 'baring', 'charlotte', 'lincolnville', 'searsmont', 'unity', 'columbia', 'cooper', 'crawford', 'cutler', 'parkman', 'danforth', 'orrington', 'twombly ridge', 'veazie', 'east central penobscot', 'dixmont', 'waldoboro', 'columbia falls', 'isle au haut', 'muscle ridge islands', 'north haven', 'owls head', 'rockland', 'rockport', 'kingsbury', 'milo', 'monson', 'sangerville', 'carthage', 'warren', 'beaver cove', 'medford', 'lagrange', 'kenduskeag', 'blue hill', 'levant', 'brooklin', 'bucksport', 'castine', 'cranberry isles', 'dedham', 'eastbrook', 'arundel', 'cornish', 'dayton', 'eliot', 'limerick', 'ellsworth', 'franklin', 'frenchboro', 'great pond', 'lamoine', 'limington', 'lyman', 'north berwick', 'ogunquit', 'parsonsfield', 'south berwick', 'swans island', 'tremont', 'trenton', 'connor', 'castle hill', 'garfield', 'baldwin', 'bangor', 'bradley', 'carmel', 'dexter', 'kennebunkport', 'lebanon', 'sorrento', 'southwest harbor', 'stonington', 'surry', 'verona island', 'winter harbor', 'bar harbor', 'osborn', 'sullivan', 'lincoln', 'lowell', 'southeast piscataquis', 'bradford', 'mattawamkeag', 'millinocket', 'newburgh', 'newport', 'north penobscot', 'orono', 'gray', 'long island', 'scarborough', 'windham', 'bridgton', 'cape elizabeth', 'falmouth', 'frye island', 'winterville', 'chester', 'clifton', 'corinna', 'drew', 'east millinocket', 'passadumkeag', 'plymouth', 'prentiss', 'mechanic falls', 'holden', 'howland', 'raymond', 'south portland', 'westbrook', 'durham', 'greene', 'south oxford', 'lewiston', 'sabattus', 'criehaven', 'cushing', 'blanchard', 'greenville', 'guilford', 'alexander', 'bancroft', 'chebeague island', 'east hancock', 'gouldsboro', 'eddington', 'eagle lake', 'new gloucester', 'edinburg', 'enfield', 'etna', 'garland', 'glenburn', 'seboeis', 'stacyville', 'webster', 'winn', 'woodville', 'matinicus isle', 'north yarmouth', 'portland', 'pownal', 'greenbush', 'hampden', 'hermon', 'stockholm', 'crystal', 'perham', 'portage lake', 'stockton springs', 'bingham', 'kingman', 'new portland', 'wales', 'bowdoin', 'washington', 'lakeville', 'medway', 'mount chase', 'lee', 'camden', 'acton', 'berwick', 'kennebunk', 'shapleigh', 'york', 'saco', 'west gardiner', 'litchfield', 'mount vernon', 'paris', 'shirley', 'lake view', 'beddington', 'deblois', 'meddybemps', 'passamaquoddy indian township', 'whitneyville', 'passamaquoddy pleasant point']\n"
     ]
    }
   ],
   "source": [
    "towns = cousub['NAME'].str.lower().to_list()"
   ]
  },
  {
   "cell_type": "code",
   "execution_count": 20,
   "id": "5aadb33a-846d-4af3-bf8e-8f1afbef94a1",
   "metadata": {},
   "outputs": [
    {
     "ename": "AttributeError",
     "evalue": "'NoneType' object has no attribute 'lower'",
     "output_type": "error",
     "traceback": [
      "\u001b[1;31m---------------------------------------------------------------------------\u001b[0m",
      "\u001b[1;31mAttributeError\u001b[0m                            Traceback (most recent call last)",
      "Cell \u001b[1;32mIn[20], line 3\u001b[0m\n\u001b[0;32m      1\u001b[0m errors \u001b[38;5;241m=\u001b[39m \u001b[38;5;28mset\u001b[39m()\n\u001b[0;32m      2\u001b[0m \u001b[38;5;28;01mfor\u001b[39;00m row \u001b[38;5;129;01min\u001b[39;00m wells_located\u001b[38;5;241m.\u001b[39mitertuples():\n\u001b[1;32m----> 3\u001b[0m     \u001b[38;5;28;01mif\u001b[39;00m \u001b[43mrow\u001b[49m\u001b[38;5;241;43m.\u001b[39;49m\u001b[43mWELL_LOCAT\u001b[49m\u001b[38;5;241;43m.\u001b[39;49m\u001b[43mlower\u001b[49m() \u001b[38;5;129;01mnot\u001b[39;00m \u001b[38;5;129;01min\u001b[39;00m towns:\n\u001b[0;32m      4\u001b[0m         errors\u001b[38;5;241m.\u001b[39madd(row\u001b[38;5;241m.\u001b[39mWELL_LOCAT)\n\u001b[0;32m      5\u001b[0m \u001b[38;5;28mprint\u001b[39m(errors)\n",
      "\u001b[1;31mAttributeError\u001b[0m: 'NoneType' object has no attribute 'lower'"
     ]
    }
   ],
   "source": [
    "errors = set()\n",
    "for row in wells_located.itertuples():\n",
    "    if row.WELL_LOCAT.lower() not in towns:\n",
    "        errors.add(row.WELL_LOCAT)\n",
    "print(errors)"
   ]
  },
  {
   "cell_type": "code",
   "execution_count": null,
   "id": "9ae7f790-7cac-4568-8828-68fb35b265f2",
   "metadata": {},
   "outputs": [],
   "source": []
  }
 ],
 "metadata": {
  "kernelspec": {
   "display_name": "Python 3 (ipykernel)",
   "language": "python",
   "name": "python3"
  },
  "language_info": {
   "codemirror_mode": {
    "name": "ipython",
    "version": 3
   },
   "file_extension": ".py",
   "mimetype": "text/x-python",
   "name": "python",
   "nbconvert_exporter": "python",
   "pygments_lexer": "ipython3",
   "version": "3.12.3"
  }
 },
 "nbformat": 4,
 "nbformat_minor": 5
}
