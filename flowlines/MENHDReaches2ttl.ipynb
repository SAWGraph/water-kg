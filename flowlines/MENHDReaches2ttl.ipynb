{
 "cells": [
  {
   "cell_type": "markdown",
   "id": "0fb28629",
   "metadata": {},
   "source": [
    "# Create Reach Network KG"
   ]
  },
  {
   "cell_type": "markdown",
   "id": "7f63d00d",
   "metadata": {},
   "source": [
    "## Imports"
   ]
  },
  {
   "cell_type": "code",
   "execution_count": 1,
   "id": "3ef985d8",
   "metadata": {},
   "outputs": [
    {
     "name": "stdout",
     "output_type": "stream",
     "text": [
      "PyTables is not installed. No support for HDF output.\n",
      "SQLalchemy is not installed. No support for SQL output.\n"
     ]
    }
   ],
   "source": [
    "from simpledbf import Dbf5\n",
    "import pandas as pd\n",
    "import geopandas as gpd\n",
    "\n",
    "from rdflib import Graph, Literal, Namespace\n",
    "from rdflib.namespace import GEO, OWL, PROV, RDF, RDFS, XSD\n",
    "\n",
    "import json\n",
    "from shapely import to_geojson"
   ]
  },
  {
   "cell_type": "markdown",
   "id": "e7d05be9",
   "metadata": {},
   "source": [
    "## Import Flowlines and Flow Connections"
   ]
  },
  {
   "cell_type": "code",
   "execution_count": 2,
   "id": "1f12a7ea",
   "metadata": {},
   "outputs": [],
   "source": [
    "### Input ###\n",
    "flowplus_file = r'../Geospatial/NE_01_NHDPlusAttributes/PlusFlow.dbf'\n",
    "flowline_file = r'../Geospatial/NE_01_NHDSnapshot/NHDFLowline.shp'\n",
    "# flowline_file = r'../Geospatial/NHDFLowline_BBox.shp'\n",
    "\n",
    "### Output ###\n",
    "ttl_file = '../ttl files/me_reaches.ttl'\n",
    "# ttl_file = '../ttl files/reaches_bbox.ttl'"
   ]
  },
  {
   "cell_type": "code",
   "execution_count": 3,
   "id": "f1c3e7e3",
   "metadata": {},
   "outputs": [
    {
     "name": "stdout",
     "output_type": "stream",
     "text": [
      "FROMCOMID    object\n",
      "TOCOMID      object\n",
      "dtype: object\n"
     ]
    }
   ],
   "source": [
    "dbf = Dbf5(flowplus_file)\n",
    "plusflow = dbf.to_dataframe()\n",
    "plusflow.drop(['FROMHYDSEQ',\n",
    "               'FROMLVLPAT', \n",
    "               'TOHYDSEQ',\n",
    "               'TOLVLPAT',\n",
    "               'NODENUMBER',\n",
    "               'DELTALEVEL',\n",
    "               'DIRECTION', \n",
    "               'GAPDISTKM',\n",
    "               'HasGeo',\n",
    "               'TotDASqKM',\n",
    "               'DivDASqKM'], \n",
    "              axis=1,\n",
    "              inplace=True)\n",
    "plusflow[['FROMCOMID', 'TOCOMID']] = plusflow[['FROMCOMID', 'TOCOMID']].astype(str)\n",
    "print(plusflow.dtypes)"
   ]
  },
  {
   "cell_type": "code",
   "execution_count": 4,
   "id": "b25aec52",
   "metadata": {},
   "outputs": [
    {
     "name": "stdout",
     "output_type": "stream",
     "text": [
      "COMID           object\n",
      "FDATE           object\n",
      "RESOLUTION      object\n",
      "GNIS_ID         object\n",
      "GNIS_NAME       object\n",
      "LENGTHKM       float64\n",
      "REACHCODE       object\n",
      "FTYPE           object\n",
      "FCODE            int64\n",
      "SHAPE_LENG     float64\n",
      "geometry      geometry\n",
      "dtype: object\n"
     ]
    }
   ],
   "source": [
    "flowline = gpd.read_file(flowline_file)\n",
    "flowline.drop(['FLOWDIR',\n",
    "               'WBAREACOMI',\n",
    "               'ENABLED',\n",
    "               'GNIS_NBR'],\n",
    "              axis=1,\n",
    "              inplace=True)\n",
    "flowline[['COMID', 'REACHCODE']] = flowline[['COMID', 'REACHCODE']].astype(str)\n",
    "print(flowline.dtypes)"
   ]
  },
  {
   "cell_type": "code",
   "execution_count": 5,
   "id": "d8273fa5",
   "metadata": {},
   "outputs": [],
   "source": [
    "# flowline.explore()"
   ]
  },
  {
   "cell_type": "markdown",
   "id": "b3366e1b",
   "metadata": {},
   "source": [
    "## Initialize KG"
   ]
  },
  {
   "cell_type": "code",
   "execution_count": 6,
   "id": "2c41052d",
   "metadata": {},
   "outputs": [],
   "source": [
    "GCX = Namespace(f'https://geoconnex.us/')\n",
    "GCX_CID = Namespace(f'https://geoconnex.us/nhdplusv2/comid/')\n",
    "HYF = Namespace(f'https://www.opengis.net/def/schema/hy_features/hyf/')\n",
    "SCHEMA = Namespace(f'https://schema.org/')\n",
    "WDP = Namespace(f'https://www.wikidata.org/wiki/Property:')"
   ]
  },
  {
   "cell_type": "code",
   "execution_count": 7,
   "id": "72c8f536",
   "metadata": {},
   "outputs": [],
   "source": [
    "kg = Graph(bind_namespaces=\"rdflib\")\n",
    "kg.bind('gcx', GCX)\n",
    "kg.bind('gcx_cid', GCX_CID)\n",
    "kg.bind('hyf', HYF)\n",
    "kg.bind('schema', SCHEMA)\n",
    "kg.bind('wdp', WDP)"
   ]
  },
  {
   "cell_type": "markdown",
   "id": "e608ac32",
   "metadata": {},
   "source": [
    "## Functions"
   ]
  },
  {
   "cell_type": "code",
   "execution_count": 8,
   "id": "677e143e",
   "metadata": {},
   "outputs": [],
   "source": [
    "def getFlowDict(df) -> dict:\n",
    "    dct = {}\n",
    "    for row in df.itertuples():\n",
    "        if row.FROMCOMID in dct.keys():\n",
    "            dct[row.FROMCOMID].append(row.TOCOMID)\n",
    "        else:\n",
    "            dct[row.FROMCOMID] = [row.TOCOMID]\n",
    "    return dct"
   ]
  },
  {
   "cell_type": "markdown",
   "id": "623bfd89",
   "metadata": {},
   "source": [
    "## Process Data and Populate Graph"
   ]
  },
  {
   "cell_type": "code",
   "execution_count": 9,
   "id": "702e3975",
   "metadata": {},
   "outputs": [],
   "source": [
    "flow_dict = getFlowDict(plusflow)\n",
    "grouping = str.maketrans('[]', '()')\n",
    "\n",
    "for row in flowline.itertuples():\n",
    "    comid = row.COMID\n",
    "    reachIRI = GCX_CID[comid]\n",
    "    reachGeoIRI = GCX_CID[comid + '.geometry']\n",
    "\n",
    "    # There's an assumption that all reaches are drawn from head to outlet\n",
    "    #    Based on a very small sample it is correct\n",
    "    geom_json = json.loads(to_geojson(row.geometry))\n",
    "    head = str(geom_json['coordinates'][0]).translate(grouping)\n",
    "    outlet = str(geom_json['coordinates'][-1]).translate(grouping)\n",
    "    \n",
    "    # Create triples for current COMID\n",
    "    #    Note: ReachCodes are not unique in NHDFlowline\n",
    "    # This is based on Geoconnex as much as possible\n",
    "    kg.add((reachIRI, RDF.type, SCHEMA['Place']))\n",
    "    kg.add((reachIRI, RDF.type, HYF['HY_FlowPath']))\n",
    "    kg.add((reachIRI, RDF.type, HYF['HY_Waterbody']))\n",
    "    \n",
    "    kg.add((reachIRI, GEO.hasGeometry, reachGeoIRI))\n",
    "    kg.add((reachGeoIRI, GEO.asWKT, Literal(row.geometry, datatype=GEO.wktLiteral)))\n",
    "    # Skipping schema:geo\n",
    "\n",
    "    if not pd.isnull(row.GNIS_NAME):\n",
    "        kg.add((reachIRI, SCHEMA['name'], Literal(row.GNIS_NAME, lang='en')))\n",
    "    kg.add((reachIRI, RDFS.label, Literal(row.FTYPE, lang='en')))\n",
    "    kg.add((reachIRI, RDFS.comment, Literal('USGS ReachCode: ' + row.REACHCODE)))\n",
    "        \n",
    "    # TODO: Add a unit (km) to P2043 via Q1978718\n",
    "    kg.add((reachIRI, WDP['P2043'], Literal(row.LENGTHKM, datatype=XSD.float)))\n",
    "    # Skipping P2053 since this data is not in NHDFlowline\n",
    "    \n",
    "    # In Geoconnex, P403 and P885 point to COMID objects (LineString objects), not nodes\n",
    "    #    as well as HUC12 objects (Point objects). But not all point to HUC12 objects.\n",
    "    # This creates new points:\n",
    "    #    1: Create the point as a geo:Feature\n",
    "    #    2: Assign the object a geo:Geometry\n",
    "    #    3: Assign the geometry geo:asWKT coordinates\n",
    "    #    4: Assign the feature to P403/P885 as the reach's outlet/head (see note above)\n",
    "    outletIRI = GCX_CID[comid + '.outlet']\n",
    "    outletGeoIRI = GCX_CID[comid + '.outlet.geometry']\n",
    "    headIRI = GCX_CID[comid + '.head']\n",
    "    headGeoIRI = GCX_CID[comid + '.head.geometry']\n",
    "    \n",
    "    kg.add((outletIRI, RDF.type, GEO.Feature))\n",
    "    kg.add((outletIRI, GEO.hasGeometry, outletGeoIRI))\n",
    "    kg.add((outletGeoIRI, GEO.asWKT, Literal('POINT ' + outlet, datatype=GEO.wktLiteral)))\n",
    "    kg.add((reachIRI, WDP['P403'], outletIRI))\n",
    "    \n",
    "    kg.add((headIRI, RDF.type, GEO.Feature))\n",
    "    kg.add((headIRI, GEO.hasGeometry, headGeoIRI))\n",
    "    kg.add((headGeoIRI, GEO.asWKT, Literal('POINT ' + head, datatype=GEO.wktLiteral)))       \n",
    "    kg.add((reachIRI, WDP['P885'], headIRI))\n",
    "    \n",
    "    if comid in flow_dict.keys():\n",
    "        for cid in flow_dict[comid]:\n",
    "            kg.add((reachIRI, HYF['downstreamWaterbody'], GCX_CID[cid]))\n",
    "    kg.add((reachIRI, HYF['downstreamWaterbody'], reachIRI))\n",
    "    # Skipping hyf:encompassingCatchment"
   ]
  },
  {
   "cell_type": "markdown",
   "id": "275e6b07",
   "metadata": {},
   "source": [
    "## Create Turtle File"
   ]
  },
  {
   "cell_type": "code",
   "execution_count": 10,
   "id": "a4002c22",
   "metadata": {},
   "outputs": [
    {
     "data": {
      "text/plain": [
       "<Graph identifier=N7d073bd4759d49c88d46e2d1b8fe5eda (<class 'rdflib.graph.Graph'>)>"
      ]
     },
     "execution_count": 10,
     "metadata": {},
     "output_type": "execute_result"
    }
   ],
   "source": [
    "kg.serialize(ttl_file, format='turtle', base='http://geoconnex.us/ref/reaches/')"
   ]
  },
  {
   "cell_type": "code",
   "execution_count": null,
   "id": "bbb6c056",
   "metadata": {},
   "outputs": [],
   "source": []
  }
 ],
 "metadata": {
  "kernelspec": {
   "display_name": "Python 3 (ipykernel)",
   "language": "python",
   "name": "python3"
  },
  "language_info": {
   "codemirror_mode": {
    "name": "ipython",
    "version": 3
   },
   "file_extension": ".py",
   "mimetype": "text/x-python",
   "name": "python",
   "nbconvert_exporter": "python",
   "pygments_lexer": "ipython3",
   "version": "3.9.1"
  }
 },
 "nbformat": 4,
 "nbformat_minor": 5
}
